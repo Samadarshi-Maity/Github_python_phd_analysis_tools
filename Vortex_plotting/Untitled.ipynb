{
 "cells": [
  {
   "cell_type": "markdown",
   "id": "7315030f",
   "metadata": {},
   "source": [
    "# To plot all radial quantities at a single place. "
   ]
  },
  {
   "cell_type": "code",
   "execution_count": 3,
   "id": "485da0df",
   "metadata": {},
   "outputs": [],
   "source": [
    "import numpy as np\n",
    "import scipy as sc\n",
    "from scipy import special as sp\n",
    "import numpy as np\n",
    "import pandas as pd\n",
    "\n",
    "# plotting imports\n",
    "import matplotlib.pyplot as plt\n",
    "# to control the tick architecture  (I have calledf extra stuff)\n",
    "from matplotlib.ticker import (MultipleLocator, FormatStrFormatter,AutoMinorLocator)\n",
    "# define the style, multiple styles can be used and the right overwrrite the left in conflict.\n",
    "plt.style.use([\"classic\"]);#,\"dark_background\"])\n",
    "\n",
    "# make a '2' pixel wide border of all the plots.\n",
    "plt.rcParams['axes.linewidth'] = 2\n",
    "# makes all latex into regular font type and removes default \"italics\"... very useful\n",
    "plt.rcParams['mathtext.default'] = 'regular'\n"
   ]
  },
  {
   "cell_type": "markdown",
   "id": "d08f75d1",
   "metadata": {},
   "source": [
    "The following things need to be plotted\n",
    "\n",
    "1. Polarization cumulative plots  \n",
    "    a) vs number density of each fluo\n",
    "    b) vs number density of each non-fluo\n",
    "    c) vs area fraction of each fluo\n",
    "    d) vs area fraction of each non-fluo\n",
    "    \n",
    "2.  Density profiles cumulative plots    \n"
   ]
  }
 ],
 "metadata": {
  "kernelspec": {
   "display_name": "Python 3 (ipykernel)",
   "language": "python",
   "name": "python3"
  },
  "language_info": {
   "codemirror_mode": {
    "name": "ipython",
    "version": 3
   },
   "file_extension": ".py",
   "mimetype": "text/x-python",
   "name": "python",
   "nbconvert_exporter": "python",
   "pygments_lexer": "ipython3",
   "version": "3.9.7"
  }
 },
 "nbformat": 4,
 "nbformat_minor": 5
}
