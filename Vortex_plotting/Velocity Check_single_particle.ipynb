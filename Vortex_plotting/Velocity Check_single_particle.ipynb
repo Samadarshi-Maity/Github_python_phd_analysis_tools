{
 "cells": [
  {
   "cell_type": "markdown",
   "id": "08f61394",
   "metadata": {},
   "source": [
    "# Check the particle Tracking data \n",
    "\n",
    "1. Imort .mat file \n",
    "2. Plot the data with the correct axis\n",
    "\n",
    "3. Create an alternate axs for the \n",
    "\n",
    "4. IMP>> check whether the \n",
    "\n",
    "5. The is for 7.4 percent \n"
   ]
  },
  {
   "cell_type": "code",
   "execution_count": 1,
   "id": "7a90c39a",
   "metadata": {},
   "outputs": [],
   "source": [
    "import scipy as sc\n",
    "import numpy as np\n",
    "import matplotlib.pyplot as plt\n",
    "import scipy.io as sio\n",
    "import os.path\n",
    "# plotting imports\n",
    "import matplotlib.pyplot as plt\n",
    "# Now call in the pandas \n",
    "import pandas as pd  \n",
    "%matplotlib inline \n",
    "\n",
    "import h5py\n",
    "plt.style.use([\"classic\"])\n",
    "import pandas as pd\n",
    "# makes all latex into regular font type and removes default \"italics\"... very useful\n",
    "plt.rcParams['mathtext.default'] = 'regular'"
   ]
  },
  {
   "cell_type": "markdown",
   "id": "e7f0966e",
   "metadata": {},
   "source": [
    "## Define a function to do all the transformation crap in one go"
   ]
  },
  {
   "cell_type": "code",
   "execution_count": null,
   "id": "81f36efa",
   "metadata": {},
   "outputs": [],
   "source": [
    "# Define a function to clean the velocity vector\n",
    "def vortex_data_ETL(matrix_path, v_cutoff):\n",
    "    # Initialise the dataframes \n",
    "    XY_vector = pd.DataFrame();\n",
    "    \n",
    "    f = h5py.File(matrix_path, 'r')\n",
    "    MATLAB_data = {}\n",
    "    for k, v in f.items():\n",
    "        MATLAB_data[k] = np.array(v)\n",
    "    \n",
    "    #  build the pandas dataframe\n",
    "    c = 0;\n",
    "    for i in['X','Y','R','$\\theta$','Vx','Vy','V$_0$','V$_r$',r'V$_\\varphi$']:\n",
    "        XY_vector[i] = (MATLAB_data['XY_vector'])[c];\n",
    "        c +=1;\n",
    "    \n",
    "    # apply velocity cutoff\n",
    "    XY_vector = XY_vector[XY_vector['V$_0$']>v_cutoff];\n",
    "    \n",
    "    return XY_vector\n",
    "\n",
    "# perform the statistical averzging for the data sets\n",
    "def Compute_Bin_data(XY_vector, particle):\n",
    "    \n",
    "    # denfine the bin edges\n",
    "    edges = np.linspace(1,600,16);\n",
    "    \n",
    "    # create another column with the BIN IDs\n",
    "    XY_vector['binID'] = np.digitize(XY_vector['R'], edges, right=False)\n",
    "    \n",
    "    # Create a new table of bin data with the mean of all th ebin means of all columns in XY_vector\n",
    "    binData = XY_vector.groupby(by=['binID']).mean()\n",
    "    \n",
    "    # define the edges and the elementary area and the central value of R\n",
    "    R_bins = np.insert((binData['R']).values,0,0)\n",
    "    dA = 0.5*( R_bins[1:]**2 - R_bins[:-1]**2)  \n",
    "    \n",
    "    # define the centre for each bin.\n",
    "    binData['centre'] = 0.5*(R_bins[1:] + R_bins[:-1])\n",
    "\n",
    "    # Comopute the mean polarisation in each bin \n",
    "    binData[r'$\\Pi_{\\varphi}$'] = np.sqrt((binData['V$_r$']/binData['V$_0$'])**2 + (binData[r'V$_\\varphi$']/binData['V$_0$'])**2)\n",
    "    \n",
    "    # compute the density in area fraction within each bin.\n",
    "    binData['$\\rho$'] = XY_vector.groupby(by=['binID']).size()/(dA*42480)*(np.pi*(particle/0.8621)**2)\n",
    "    \n",
    "    return binData "
   ]
  },
  {
   "cell_type": "code",
   "execution_count": null,
   "id": "000adc96",
   "metadata": {},
   "outputs": [],
   "source": [
    "# Extract the XY_vectors correctly afterimporting the .mat files\n",
    "\n",
    "# for F \n",
    "matrix_path_F  ='E:\\9.5.22_Vortex_Experiments\\mixture\\smaller_surprise\\constant_density_high\\density_7.4_percent\\LoopFigures\\colloidF15h16_2x2x_243fps_4db_2ms_150V_files_binData.mat';\n",
    "\n",
    "v_cutoff_F  = 2;\n",
    "particle_F = 2.5;\n",
    "XY_vector_F = vortex_data_ETL(matrix_path_F, v_cutoff_F);\n",
    "\n",
    "# perform the statistical averaging for the data sets.\n",
    "binData_F = Compute_Bin_data(XY_vector_F,particle_F);"
   ]
  },
  {
   "cell_type": "code",
   "execution_count": null,
   "id": "4c03335f",
   "metadata": {},
   "outputs": [],
   "source": [
    "plt.figure(figsize  = (12,5))\n",
    "#for i in range(1,16):\n",
    "    #xF = XY_vector_F[XY_vector_F['binID'] ==16 - i ]['V$_0$']\n",
    "    #plt.hist(xF,40)\n",
    "    #plt.axvline(xF.mean(), color='orange', linestyle='dashed', linewidth=2)\n",
    "xNF = XY_vector_NF[XY_vector_NF['binID'] ==10 ]['V$_0$']\n",
    " \n",
    "plt.hist(xNF,40)\n",
    "plt.axvline(xNF.mean(), color='yellow', linestyle='dashed', linewidth=2)\n",
    "## Conclusion: the max value of the velocity are very close to the mode of the particle \n",
    "## True for all cases \n",
    "## Next steps: make a massive flocka nd check this out. "
   ]
  },
  {
   "cell_type": "code",
   "execution_count": null,
   "id": "488fe7bb",
   "metadata": {},
   "outputs": [],
   "source": []
  },
  {
   "cell_type": "code",
   "execution_count": null,
   "id": "6beee4cf",
   "metadata": {},
   "outputs": [],
   "source": [
    "# these are what they are:\n",
    "plt.plot(binData_F['centre'],binData_F['V$_0$'], label ='fluo')\n",
    "plt.plot(binData_NF['centre'],binData_NF['V$_0$'], label ='non-fluo')\n",
    "#plt.plot(binData_F['centre'], Net_field_velocity, label ='total velocity',)\n",
    "#plt.plot(binData_F['centre'],binData_F['V$_0$'] - binData_NF['V$_0$'], label ='difference')\n",
    "plt.legend(loc= 'best')\n",
    "plt.xlabel('Radius')\n",
    "plt.ylabel('vel (px/frame)')\n",
    "plt.savefig('velocity.pdf',dpi=300)"
   ]
  },
  {
   "cell_type": "code",
   "execution_count": null,
   "id": "d064062e",
   "metadata": {},
   "outputs": [],
   "source": [
    "## do the above thing for the particle density\n",
    "plt.plot(binData_F['centre'][:-1],binData_F['$\\rho$'][:-1]/(binData_F['$\\rho$'][:-1]+binData_NF['$\\rho$'][:-2]), label ='fluo', linestyle = '--')\n",
    "plt.plot(binData_NF['centre'][:-1],binData_NF['$\\rho$'][:-1]/(binData_F['$\\rho$'][:-1]+binData_NF['$\\rho$'][:-2]), label ='non-fluo', linestyle = '--')\n",
    "plt.legend(loc= 'best')\n",
    "plt.xlabel('Radius')\n",
    "plt.ylabel('density($\\phi$)')\n",
    "plt.savefig('density_7.4.pdf',dpi=300)"
   ]
  },
  {
   "cell_type": "code",
   "execution_count": null,
   "id": "31cdf25c",
   "metadata": {},
   "outputs": [],
   "source": [
    "binData_NF['$\\rho$'][:-1]/(binData_F['$\\rho$'][:-1]+binData_NF['$\\rho$'][:-2])"
   ]
  },
  {
   "cell_type": "code",
   "execution_count": null,
   "id": "5737a8f5",
   "metadata": {},
   "outputs": [],
   "source": [
    "len(XY_vector_F)/len(XY_vector_NF)*100\n"
   ]
  },
  {
   "cell_type": "code",
   "execution_count": null,
   "id": "5efa2c3f",
   "metadata": {},
   "outputs": [],
   "source": [
    "## do the above thing for the particle density\n",
    "plt.plot(binData_F['centre'][:-1],binData_F['$\\rho$'][:-1]/(binData_F['$\\rho$'][:-1]+binData_NF['$\\rho$'][:-2]), label ='fluo', linestyle = '--')\n",
    "plt.plot(binData_NF['centre'][:-1],binData_NF['$\\rho$'][:-1]/(binData_F['$\\rho$'][:-1]+binData_NF['$\\rho$'][:-2]), label ='non-fluo', linestyle = '--')\n",
    "plt.legend(loc= 'best')\n",
    "plt.xlabel('Radius')\n",
    "plt.ylabel('density($\\phi$)')\n",
    "#plt.savefig('density.pdf',dpi=300)\n",
    "print(binData_F['$\\rho$'][:-1]/(binData_F['$\\rho$'][:-1]+binData_NF['$\\rho$'][:-2]))"
   ]
  },
  {
   "cell_type": "code",
   "execution_count": null,
   "id": "c9fbb63c",
   "metadata": {},
   "outputs": [],
   "source": [
    "# compute other parameters\n",
    "# radial local momentum \n",
    "## do the above thing for the particle density\n",
    "plt.plot(binData_F['centre'][:-1],binData_F['$\\rho$'][:-1]*binData_F[r'$\\Pi_{\\varphi}$'][:-1]*binData_F['V$_0$'][:-1], label ='fluo', linestyle = '--')\n",
    "plt.plot(binData_F['centre'][:-1],binData_NF['$\\rho$'][:-1]*binData_NF[r'$\\Pi_{\\varphi}$'][:-1]*binData_NF['V$_0$'][:-1], label ='non-fluo', linestyle = '--')\n",
    "plt.plot(binData_F['centre'][:-1],binData_F['$\\rho$'][:-1]*binData_F[r'$\\Pi_{\\varphi}$'][:-1]*binData_F['V$_0$'][:-1]+binData_NF['$\\rho$'][:-1]*binData_NF[r'$\\Pi_{\\varphi}$'][:-1]*binData_NF['V$_0$'][:-1], label ='total density',color ='k', linestyle = '--')\n",
    "#plt.plot(binData_F['centre'][:-1],binData_NF['$\\rho$'][:-1]- binData_F['$\\rho$'][:-1], label ='difference', color = 'orange')\n",
    "plt.title(r'Local angular momentum $(\\Pi\\phi V_{\\varphi})$')\n",
    "plt.legend(loc= 'best')\n",
    "plt.xlabel('Radius')\n",
    "plt.ylabel(r'$\\Pi\\phi V_{\\varphi}$(r)')\n",
    "plt.savefig('local angular momentun.pdf',dpi=300)"
   ]
  },
  {
   "cell_type": "code",
   "execution_count": null,
   "id": "47cbfe68",
   "metadata": {},
   "outputs": [],
   "source": [
    "# compute other parameters\n",
    "# radial local momentum \n",
    "## do the above thing for the particle density\n",
    "plt.plot(binData_F['centre'][:-1],binData_F['$\\rho$'][:-1]*binData_F[r'$\\Pi_{\\varphi}$'][:-1]*binData_F['V$_0$'][:-1], label ='fluo', linestyle = '--')\n",
    "plt.plot(binData_NF['centre'][:-1],binData_NF['$\\rho$'][:-1]*binData_NF[r'$\\Pi_{\\varphi}$'][:-1]*binData_NF['V$_0$'][:-1], label ='non-fluo', linestyle = '--')\n",
    "#plt.plot(binData_F['centre'][:-1],binData_F['$\\rho$'][:-1]*binData_F[r'$\\Pi_{\\varphi}$'][:-1]*binData_F['V$_0$'][:-1]+binData_NF['$\\rho$'][:-1]*binData_NF[r'$\\Pi_{\\varphi}$'][:-1]*binData_NF['V$_0$'][:-1], label ='total density',color ='k', linestyle = '--')\n",
    "#plt.plot(binData_F['centre'][:-1],binData_NF['$\\rho$'][:-1]- binData_F['$\\rho$'][:-1], label ='difference', color = 'orange')\n",
    "plt.title(r'Local angular momentum $(\\Pi\\phi V_{\\varphi})$')\n",
    "plt.legend(loc= 'best')\n",
    "plt.xlabel('Radius')\n",
    "plt.ylabel(r'$\\Pi\\phi V_{\\varphi}$(r)')\n",
    "plt.savefig('local angular momentun.pdf',dpi=300)"
   ]
  },
  {
   "cell_type": "code",
   "execution_count": null,
   "id": "0a35b071",
   "metadata": {},
   "outputs": [],
   "source": [
    "# compute other parameters\n",
    "# radial local momentum \n",
    "## do the above thing for the particle density\n",
    "Total_phi_V = (binData_F[r'$\\Pi_{\\varphi}$'][:-1]*binData_F['V$_0$'][:-1]+binData_NF['$\\rho$'][:-1]*binData_NF[r'$\\Pi_{\\varphi}$'][:-1]*binData_NF['V$_0$'][:-1])/(binData_F['$\\rho$'][:-1] +binData_NF['$\\rho$'][:-1])\n",
    "plt.plot(binData_F['centre'][:-1],binData_F[r'$\\Pi_{\\varphi}$'][:-1], label ='fluo', linestyle = '--')\n",
    "plt.plot(binData_F['centre'][:-1],binData_NF[r'$\\Pi_{\\varphi}$'][:-1], label ='non-fluo', linestyle = '--')\n",
    "#plt.plot(binData_F['centre'][:-1],Total_phi_V, label ='total density',color ='k', linestyle = '--')\n",
    "#plt.plot(binData_F['centre'][:-1],binData_NF['$\\rho$'][:-1]- binData_F['$\\rho$'][:-1], label ='difference', color = 'orange')\n",
    "plt.title(r'Polarisation $(\\pi)$')\n",
    "plt.legend(loc= 'best')\n",
    "plt.xlabel('Radius')\n",
    "plt.ylabel(r'$\\Pi V_{\\varphi}$(r)')\n",
    "plt.savefig('local angular momentun.pdf',dpi=300)"
   ]
  },
  {
   "cell_type": "code",
   "execution_count": null,
   "id": "daeb18fd",
   "metadata": {},
   "outputs": [],
   "source": [
    "# compute other parameters # radial local momentum \n",
    "## do the above thing for the particle density\n",
    "plt.plot(binData_F['centre'][:-1],binData_F['$\\rho$'][:-1]/(np.pi*(5/0.8621)**2), label ='fluo', linestyle = '--')\n",
    "plt.plot(binData_F['centre'][:-1],binData_NF['$\\rho$'][:-1]/(np.pi*(3.5/0.8621)**2), label ='non-fluo', linestyle = '--')\n",
    "plt.plot(binData_F['centre'][:-1],binData_F['$\\rho$'][:-1]/(np.pi*(5/0.8621)**2)+binData_NF['$\\rho$'][:-1]/(np.pi*(3.5/0.8621)**2), label ='total density',color ='k', linestyle = '--')\n",
    "#plt.plot(binData_F['centre'][:-1],binData_NF['$\\rho$'][:-1]- binData_F['$\\rho$'][:-1], label ='difference', color = 'orange')\n",
    "plt.title('Local angular momentum $(\\Pi\\phi)$')\n",
    "plt.legend(loc= 'best')\n",
    "plt.xlabel('Radius')\n",
    "plt.ylabel('density(#/px$^2$)')\n",
    "plt.savefig('number density.pdf',dpi=300)"
   ]
  },
  {
   "cell_type": "code",
   "execution_count": null,
   "id": "4b7e08e3",
   "metadata": {},
   "outputs": [],
   "source": [
    "# compute other parameters # radial local momentum \n",
    "## do the above thing for the particle density\n",
    "plt.plot(binData_F['centre'][:-1],binData_F['$\\rho$'][:-1], label ='fluo', linestyle = '--')\n",
    "plt.plot(binData_NF['centre'][:-2],binData_NF['$\\rho$'][:-2], label ='non-fluo', linestyle = '--')\n",
    "plt.plot(binData_NF['centre'][:-2],binData_F['$\\rho$'][:-1]+binData_NF['$\\rho$'][:-2], label ='total density',color ='k', linestyle = '--')\n",
    "plt.grid(True)\n",
    "plt.title('Local angular momentum $(\\Pi\\phi)$')\n",
    "plt.legend(loc= 'best')\n",
    "plt.xlabel('Radius')\n",
    "plt.ylabel('density(#/px$^2$)')\n",
    "plt.savefig('Plots/number density.pdf',dpi=300)"
   ]
  },
  {
   "cell_type": "code",
   "execution_count": null,
   "id": "b9dad294",
   "metadata": {},
   "outputs": [],
   "source": []
  }
 ],
 "metadata": {
  "kernelspec": {
   "display_name": "Python 3 (ipykernel)",
   "language": "python",
   "name": "python3"
  },
  "language_info": {
   "codemirror_mode": {
    "name": "ipython",
    "version": 3
   },
   "file_extension": ".py",
   "mimetype": "text/x-python",
   "name": "python",
   "nbconvert_exporter": "python",
   "pygments_lexer": "ipython3",
   "version": "3.9.7"
  }
 },
 "nbformat": 4,
 "nbformat_minor": 5
}
